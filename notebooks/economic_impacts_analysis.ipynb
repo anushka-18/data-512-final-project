{
 "cells": [
  {
   "cell_type": "markdown",
   "id": "8dbc2d66",
   "metadata": {},
   "source": [
    "# Analyzing Economic Impacts of COVID-19 in Monroe County, New York"
   ]
  },
  {
   "cell_type": "markdown",
   "id": "0a384747",
   "metadata": {},
   "source": [
    "### Importing Basic Libraries"
   ]
  },
  {
   "cell_type": "code",
   "execution_count": 1,
   "id": "d5a50b17",
   "metadata": {},
   "outputs": [],
   "source": [
    "import pandas as pd\n",
    "import matplotlib.pyplot as plt\n",
    "import numpy as np"
   ]
  },
  {
   "cell_type": "markdown",
   "id": "62d3cb5a",
   "metadata": {},
   "source": [
    "### Importing Statistics Libraries for Analysis"
   ]
  },
  {
   "cell_type": "code",
   "execution_count": 2,
   "id": "8ea80685",
   "metadata": {},
   "outputs": [],
   "source": [
    "from statsmodels.tsa.stattools import adfuller\n",
    "from statsmodels.tsa.stattools import grangercausalitytests\n",
    "from scipy.stats import pearsonr"
   ]
  },
  {
   "cell_type": "markdown",
   "id": "2c6486e2",
   "metadata": {},
   "source": [
    "### Importing data files"
   ]
  },
  {
   "cell_type": "code",
   "execution_count": 3,
   "id": "6f49525f",
   "metadata": {},
   "outputs": [],
   "source": [
    "monroe_housing_prices = pd.read_csv(\"data/housing-price.csv\")\n",
    "monroe_unemployment_percentages = pd.read_csv(\"data/monroe-unemployment-percentages.csv\")\n",
    "monroe_unemployment_numbers = pd.read_csv(\"data/monroe-unemployment-numbers.csv\")\n",
    "monroe_case_count = pd.read_csv(\"data/daily-case-count-monroe.csv\")\n",
    "monroe_gdp = pd.read_csv(\"data/monroe-gdp.csv\")"
   ]
  },
  {
   "cell_type": "code",
   "execution_count": 4,
   "id": "b1fb116e",
   "metadata": {},
   "outputs": [
    {
     "data": {
      "text/html": [
       "<div>\n",
       "<style scoped>\n",
       "    .dataframe tbody tr th:only-of-type {\n",
       "        vertical-align: middle;\n",
       "    }\n",
       "\n",
       "    .dataframe tbody tr th {\n",
       "        vertical-align: top;\n",
       "    }\n",
       "\n",
       "    .dataframe thead th {\n",
       "        text-align: right;\n",
       "    }\n",
       "</style>\n",
       "<table border=\"1\" class=\"dataframe\">\n",
       "  <thead>\n",
       "    <tr style=\"text-align: right;\">\n",
       "      <th></th>\n",
       "      <th>DATE</th>\n",
       "      <th>MEDLISPRI36055</th>\n",
       "    </tr>\n",
       "  </thead>\n",
       "  <tbody>\n",
       "    <tr>\n",
       "      <th>0</th>\n",
       "      <td>2016-07-01</td>\n",
       "      <td>154900.0</td>\n",
       "    </tr>\n",
       "    <tr>\n",
       "      <th>1</th>\n",
       "      <td>2016-08-01</td>\n",
       "      <td>150000.0</td>\n",
       "    </tr>\n",
       "    <tr>\n",
       "      <th>2</th>\n",
       "      <td>2016-09-01</td>\n",
       "      <td>153900.0</td>\n",
       "    </tr>\n",
       "    <tr>\n",
       "      <th>3</th>\n",
       "      <td>2016-10-01</td>\n",
       "      <td>149900.0</td>\n",
       "    </tr>\n",
       "    <tr>\n",
       "      <th>4</th>\n",
       "      <td>2016-11-01</td>\n",
       "      <td>146425.0</td>\n",
       "    </tr>\n",
       "  </tbody>\n",
       "</table>\n",
       "</div>"
      ],
      "text/plain": [
       "         DATE  MEDLISPRI36055\n",
       "0  2016-07-01        154900.0\n",
       "1  2016-08-01        150000.0\n",
       "2  2016-09-01        153900.0\n",
       "3  2016-10-01        149900.0\n",
       "4  2016-11-01        146425.0"
      ]
     },
     "execution_count": 4,
     "metadata": {},
     "output_type": "execute_result"
    }
   ],
   "source": [
    "monroe_housing_prices.head()"
   ]
  },
  {
   "cell_type": "code",
   "execution_count": 5,
   "id": "20db7d92",
   "metadata": {},
   "outputs": [
    {
     "data": {
      "text/html": [
       "<div>\n",
       "<style scoped>\n",
       "    .dataframe tbody tr th:only-of-type {\n",
       "        vertical-align: middle;\n",
       "    }\n",
       "\n",
       "    .dataframe tbody tr th {\n",
       "        vertical-align: top;\n",
       "    }\n",
       "\n",
       "    .dataframe thead th {\n",
       "        text-align: right;\n",
       "    }\n",
       "</style>\n",
       "<table border=\"1\" class=\"dataframe\">\n",
       "  <thead>\n",
       "    <tr style=\"text-align: right;\">\n",
       "      <th></th>\n",
       "      <th>DATE</th>\n",
       "      <th>NYMONR5URN</th>\n",
       "    </tr>\n",
       "  </thead>\n",
       "  <tbody>\n",
       "    <tr>\n",
       "      <th>0</th>\n",
       "      <td>1990-01-01</td>\n",
       "      <td>3.7</td>\n",
       "    </tr>\n",
       "    <tr>\n",
       "      <th>1</th>\n",
       "      <td>1990-02-01</td>\n",
       "      <td>3.7</td>\n",
       "    </tr>\n",
       "    <tr>\n",
       "      <th>2</th>\n",
       "      <td>1990-03-01</td>\n",
       "      <td>3.4</td>\n",
       "    </tr>\n",
       "    <tr>\n",
       "      <th>3</th>\n",
       "      <td>1990-04-01</td>\n",
       "      <td>3.2</td>\n",
       "    </tr>\n",
       "    <tr>\n",
       "      <th>4</th>\n",
       "      <td>1990-05-01</td>\n",
       "      <td>3.2</td>\n",
       "    </tr>\n",
       "  </tbody>\n",
       "</table>\n",
       "</div>"
      ],
      "text/plain": [
       "         DATE  NYMONR5URN\n",
       "0  1990-01-01         3.7\n",
       "1  1990-02-01         3.7\n",
       "2  1990-03-01         3.4\n",
       "3  1990-04-01         3.2\n",
       "4  1990-05-01         3.2"
      ]
     },
     "execution_count": 5,
     "metadata": {},
     "output_type": "execute_result"
    }
   ],
   "source": [
    "monroe_unemployment_percentages.head()"
   ]
  },
  {
   "cell_type": "code",
   "execution_count": 6,
   "id": "61c1a355",
   "metadata": {},
   "outputs": [
    {
     "data": {
      "text/html": [
       "<div>\n",
       "<style scoped>\n",
       "    .dataframe tbody tr th:only-of-type {\n",
       "        vertical-align: middle;\n",
       "    }\n",
       "\n",
       "    .dataframe tbody tr th {\n",
       "        vertical-align: top;\n",
       "    }\n",
       "\n",
       "    .dataframe thead th {\n",
       "        text-align: right;\n",
       "    }\n",
       "</style>\n",
       "<table border=\"1\" class=\"dataframe\">\n",
       "  <thead>\n",
       "    <tr style=\"text-align: right;\">\n",
       "      <th></th>\n",
       "      <th>Unnamed: 0</th>\n",
       "      <th>date</th>\n",
       "      <th>confirmed_cases</th>\n",
       "      <th>confirmed_rate</th>\n",
       "      <th>State_Tribe_Territory</th>\n",
       "      <th>County_Name</th>\n",
       "      <th>FIPS_State</th>\n",
       "      <th>FIPS_County</th>\n",
       "      <th>order_code</th>\n",
       "      <th>Face_Masks_Required_in_Public</th>\n",
       "      <th>Source_of_Action</th>\n",
       "      <th>URL</th>\n",
       "      <th>Citation</th>\n",
       "    </tr>\n",
       "  </thead>\n",
       "  <tbody>\n",
       "    <tr>\n",
       "      <th>604</th>\n",
       "      <td>604</td>\n",
       "      <td>2021-09-27</td>\n",
       "      <td>79131</td>\n",
       "      <td>173.0</td>\n",
       "      <td>NaN</td>\n",
       "      <td>NaN</td>\n",
       "      <td>NaN</td>\n",
       "      <td>NaN</td>\n",
       "      <td>NaN</td>\n",
       "      <td>No Data</td>\n",
       "      <td>NaN</td>\n",
       "      <td>NaN</td>\n",
       "      <td>NaN</td>\n",
       "    </tr>\n",
       "    <tr>\n",
       "      <th>605</th>\n",
       "      <td>605</td>\n",
       "      <td>2021-09-28</td>\n",
       "      <td>79289</td>\n",
       "      <td>204.0</td>\n",
       "      <td>NaN</td>\n",
       "      <td>NaN</td>\n",
       "      <td>NaN</td>\n",
       "      <td>NaN</td>\n",
       "      <td>NaN</td>\n",
       "      <td>No Data</td>\n",
       "      <td>NaN</td>\n",
       "      <td>NaN</td>\n",
       "      <td>NaN</td>\n",
       "    </tr>\n",
       "    <tr>\n",
       "      <th>606</th>\n",
       "      <td>606</td>\n",
       "      <td>2021-09-29</td>\n",
       "      <td>79539</td>\n",
       "      <td>234.5</td>\n",
       "      <td>NaN</td>\n",
       "      <td>NaN</td>\n",
       "      <td>NaN</td>\n",
       "      <td>NaN</td>\n",
       "      <td>NaN</td>\n",
       "      <td>No Data</td>\n",
       "      <td>NaN</td>\n",
       "      <td>NaN</td>\n",
       "      <td>NaN</td>\n",
       "    </tr>\n",
       "    <tr>\n",
       "      <th>607</th>\n",
       "      <td>607</td>\n",
       "      <td>2021-09-30</td>\n",
       "      <td>79758</td>\n",
       "      <td>239.0</td>\n",
       "      <td>NaN</td>\n",
       "      <td>NaN</td>\n",
       "      <td>NaN</td>\n",
       "      <td>NaN</td>\n",
       "      <td>NaN</td>\n",
       "      <td>No Data</td>\n",
       "      <td>NaN</td>\n",
       "      <td>NaN</td>\n",
       "      <td>NaN</td>\n",
       "    </tr>\n",
       "    <tr>\n",
       "      <th>608</th>\n",
       "      <td>608</td>\n",
       "      <td>2021-10-01</td>\n",
       "      <td>80017</td>\n",
       "      <td>247.0</td>\n",
       "      <td>NaN</td>\n",
       "      <td>NaN</td>\n",
       "      <td>NaN</td>\n",
       "      <td>NaN</td>\n",
       "      <td>NaN</td>\n",
       "      <td>No Data</td>\n",
       "      <td>NaN</td>\n",
       "      <td>NaN</td>\n",
       "      <td>NaN</td>\n",
       "    </tr>\n",
       "  </tbody>\n",
       "</table>\n",
       "</div>"
      ],
      "text/plain": [
       "     Unnamed: 0        date  confirmed_cases  confirmed_rate  \\\n",
       "604         604  2021-09-27            79131           173.0   \n",
       "605         605  2021-09-28            79289           204.0   \n",
       "606         606  2021-09-29            79539           234.5   \n",
       "607         607  2021-09-30            79758           239.0   \n",
       "608         608  2021-10-01            80017           247.0   \n",
       "\n",
       "    State_Tribe_Territory County_Name  FIPS_State  FIPS_County  order_code  \\\n",
       "604                   NaN         NaN         NaN          NaN         NaN   \n",
       "605                   NaN         NaN         NaN          NaN         NaN   \n",
       "606                   NaN         NaN         NaN          NaN         NaN   \n",
       "607                   NaN         NaN         NaN          NaN         NaN   \n",
       "608                   NaN         NaN         NaN          NaN         NaN   \n",
       "\n",
       "    Face_Masks_Required_in_Public Source_of_Action  URL Citation  \n",
       "604                       No Data              NaN  NaN      NaN  \n",
       "605                       No Data              NaN  NaN      NaN  \n",
       "606                       No Data              NaN  NaN      NaN  \n",
       "607                       No Data              NaN  NaN      NaN  \n",
       "608                       No Data              NaN  NaN      NaN  "
      ]
     },
     "execution_count": 6,
     "metadata": {},
     "output_type": "execute_result"
    }
   ],
   "source": [
    "monroe_case_count.tail()"
   ]
  },
  {
   "cell_type": "markdown",
   "id": "7a59f306",
   "metadata": {},
   "source": [
    "### Exploratory Data Analysis"
   ]
  },
  {
   "cell_type": "markdown",
   "id": "092b05fd",
   "metadata": {},
   "source": [
    "We perform a visual inspection of our data to see the trend at first go. We first extract the data from Feb 2020 to October 2021 to be consistent with the common analysis we performed for COVID-19 case count."
   ]
  },
  {
   "cell_type": "code",
   "execution_count": 7,
   "id": "5e9eebf8",
   "metadata": {},
   "outputs": [],
   "source": [
    "# Extracting housing prices from Feb 2020 to Oct 2021\n",
    "monroe_housing_prices = monroe_housing_prices.iloc[43:64]"
   ]
  },
  {
   "cell_type": "code",
   "execution_count": 8,
   "id": "7d207a5b",
   "metadata": {},
   "outputs": [],
   "source": [
    "# Extracting unemployment percentages from Feb 2020 to Oct 2021\n",
    "monroe_unemployment_percentages = monroe_unemployment_percentages.iloc[361:382]"
   ]
  },
  {
   "cell_type": "code",
   "execution_count": 9,
   "id": "22f0e81c",
   "metadata": {},
   "outputs": [
    {
     "data": {
      "text/plain": [
       "Text(0.5, 1.0, 'Unemployment Percentage in Monroe County')"
      ]
     },
     "execution_count": 9,
     "metadata": {},
     "output_type": "execute_result"
    },
    {
     "data": {
      "image/png": "[encoded data removed]",
      "text/plain": [
       "<Figure size 1008x288 with 1 Axes>"
      ]
     },
     "metadata": {
      "needs_background": "light"
     },
     "output_type": "display_data"
    }
   ],
   "source": [
    "# Plotting unemployment percentages wrt time  \n",
    "plt.figure(figsize=(14,4))\n",
    "plt.xticks(rotation=70)\n",
    "plt.plot(monroe_unemployment_percentages['DATE'], monroe_unemployment_percentages['NYMONR5URN'])\n",
    "plt.xlabel('Date', fontdict={'fontsize': 15})\n",
    "plt.ylabel('Unemployment Percentage', fontdict={'fontsize': 15})\n",
    "plt.title('Unemployment Percentage in Monroe County', fontdict={'fontsize': 15})"
   ]
  },
  {
   "cell_type": "code",
   "execution_count": 10,
   "id": "d7e77a6a",
   "metadata": {},
   "outputs": [
    {
     "data": {
      "text/plain": [
       "Text(0.5, 1.0, 'Median Housing Prices in Monroe County')"
      ]
     },
     "execution_count": 10,
     "metadata": {},
     "output_type": "execute_result"
    },
    {
     "data": {
      "image/png": "[encoded data removed]",
      "text/plain": [
       "<Figure size 1008x288 with 1 Axes>"
      ]
     },
     "metadata": {
      "needs_background": "light"
     },
     "output_type": "display_data"
    }
   ],
   "source": [
    "# Plotting median housing prices wrt time \n",
    "plt.figure(figsize=(14,4))\n",
    "plt.xticks(rotation=70)\n",
    "plt.plot(monroe_housing_prices['DATE'], monroe_housing_prices['MEDLISPRI36055'])\n",
    "plt.xlabel('Date', fontdict={'fontsize': 15})\n",
    "plt.ylabel('Housing Prices', fontdict={'fontsize': 15})\n",
    "plt.title('Median Housing Prices in Monroe County', fontdict={'fontsize': 15})"
   ]
  },
  {
   "cell_type": "code",
   "execution_count": 11,
   "id": "4f0fb5fb",
   "metadata": {},
   "outputs": [
    {
     "data": {
      "text/plain": [
       "Text(0.5, 1.0, 'GDP in Monroe County')"
      ]
     },
     "execution_count": 11,
     "metadata": {},
     "output_type": "execute_result"
    },
    {
     "data": {
      "image/png": "[encoded data removed]",
      "text/plain": [
       "<Figure size 1008x288 with 1 Axes>"
      ]
     },
     "metadata": {
      "needs_background": "light"
     },
     "output_type": "display_data"
    }
   ],
   "source": [
    "# Plotting GDP wrt time \n",
    "plt.figure(figsize=(14,4))\n",
    "plt.xticks(rotation=70)\n",
    "plt.plot(monroe_gdp['DATE'], monroe_gdp['GDPALL36055'])\n",
    "plt.xlabel('Date', fontdict={'fontsize': 15})\n",
    "plt.ylabel('GDP', fontdict={'fontsize': 15})\n",
    "plt.title('GDP in Monroe County', fontdict={'fontsize': 15})"
   ]
  },
  {
   "cell_type": "markdown",
   "id": "38772d42",
   "metadata": {},
   "source": [
    "### Statistical Analysis"
   ]
  },
  {
   "cell_type": "markdown",
   "id": "ebd4215e",
   "metadata": {},
   "source": [
    "To perform statistical analysis, we first convert the case count data from daily to monthly. Then, we merge it with the unemployment dataset and the median housing prices dataset. We run Pearson Correlation test on unemployment percentages, and Granger Causality test on median housing prices. "
   ]
  },
  {
   "cell_type": "code",
   "execution_count": 12,
   "id": "e904270f",
   "metadata": {},
   "outputs": [],
   "source": [
    "monroe_case_count = pd.read_csv(\"data/daily-case-count-monroe.csv\", parse_dates =[\"date\"], index_col =\"date\")\n",
    "average= lambda x: sum(x)/len(x)\n",
    "logic = {'confirmed_cases'  : average}\n",
    "result=monroe_case_count.resample('M').apply(logic)\n",
    "result.reset_index(inplace=True)\n",
    "\n",
    "#Converting dates in date column to bring them to a standard format with respect to unemployment data and median housing prices data\n",
    "date_pattern = []\n",
    "for index, row in result.iterrows():\n",
    "  row['date'] = row['date'].strftime('%Y-%m-%d')[0:7]\n",
    "  date_pattern.append(row['date'])\n",
    "\n",
    "result['date'] = date_pattern\n"
   ]
  },
  {
   "cell_type": "code",
   "execution_count": 13,
   "id": "0c1afa3d",
   "metadata": {},
   "outputs": [],
   "source": [
    "monroe_housing_prices.reset_index()\n",
    "date_pattern_housing = []\n",
    "for index, row in monroe_housing_prices.iterrows():\n",
    "  row['DATE'] = row['DATE'][0:7]\n",
    "  date_pattern_housing.append(row['DATE'])\n",
    "\n",
    "monroe_housing_prices['DATE'] = date_pattern_housing\n",
    "monroe_housing_prices.reset_index(inplace = True)\n",
    "monroe_housing_prices.drop('index', axis=1, inplace = True)\n",
    "\n",
    "monroe_housing_prices = monroe_housing_prices.rename(columns={'DATE': 'date'})"
   ]
  },
  {
   "cell_type": "code",
   "execution_count": 14,
   "id": "28a190ed",
   "metadata": {},
   "outputs": [
    {
     "data": {
      "text/html": [
       "<div>\n",
       "<style scoped>\n",
       "    .dataframe tbody tr th:only-of-type {\n",
       "        vertical-align: middle;\n",
       "    }\n",
       "\n",
       "    .dataframe tbody tr th {\n",
       "        vertical-align: top;\n",
       "    }\n",
       "\n",
       "    .dataframe thead th {\n",
       "        text-align: right;\n",
       "    }\n",
       "</style>\n",
       "<table border=\"1\" class=\"dataframe\">\n",
       "  <thead>\n",
       "    <tr style=\"text-align: right;\">\n",
       "      <th></th>\n",
       "      <th>DATE</th>\n",
       "      <th>NYMONR5URN</th>\n",
       "    </tr>\n",
       "  </thead>\n",
       "  <tbody>\n",
       "    <tr>\n",
       "      <th>361</th>\n",
       "      <td>2020-02-01</td>\n",
       "      <td>4.6</td>\n",
       "    </tr>\n",
       "    <tr>\n",
       "      <th>362</th>\n",
       "      <td>2020-03-01</td>\n",
       "      <td>5.1</td>\n",
       "    </tr>\n",
       "    <tr>\n",
       "      <th>363</th>\n",
       "      <td>2020-04-01</td>\n",
       "      <td>16.9</td>\n",
       "    </tr>\n",
       "    <tr>\n",
       "      <th>364</th>\n",
       "      <td>2020-05-01</td>\n",
       "      <td>12.9</td>\n",
       "    </tr>\n",
       "    <tr>\n",
       "      <th>365</th>\n",
       "      <td>2020-06-01</td>\n",
       "      <td>10.5</td>\n",
       "    </tr>\n",
       "  </tbody>\n",
       "</table>\n",
       "</div>"
      ],
      "text/plain": [
       "           DATE  NYMONR5URN\n",
       "361  2020-02-01         4.6\n",
       "362  2020-03-01         5.1\n",
       "363  2020-04-01        16.9\n",
       "364  2020-05-01        12.9\n",
       "365  2020-06-01        10.5"
      ]
     },
     "execution_count": 14,
     "metadata": {},
     "output_type": "execute_result"
    }
   ],
   "source": [
    "monroe_unemployment_percentages.head()"
   ]
  },
  {
   "cell_type": "code",
   "execution_count": 15,
   "id": "7918bc0f",
   "metadata": {},
   "outputs": [],
   "source": [
    "date_pattern_unemployment = []\n",
    "for index, row in monroe_unemployment_percentages.iterrows():\n",
    "  row['DATE'] = row['DATE'][0:7]\n",
    "  date_pattern_unemployment.append(row['DATE'])\n",
    "\n",
    "monroe_unemployment_percentages['DATE'] = date_pattern_unemployment\n",
    "monroe_unemployment_percentages.reset_index(inplace = True)\n",
    "monroe_unemployment_percentages.drop('index', axis=1, inplace = True)\n",
    "\n",
    "monroe_unemployment_percentages = monroe_unemployment_percentages.rename(columns={'DATE': 'date'})"
   ]
  },
  {
   "cell_type": "code",
   "execution_count": 16,
   "id": "6021f5d3",
   "metadata": {},
   "outputs": [],
   "source": [
    "# Merging case count and housing prices dataset\n",
    "df_merge = pd.merge(monroe_housing_prices, result, on=\"date\", how='inner')"
   ]
  },
  {
   "cell_type": "code",
   "execution_count": 17,
   "id": "66d2453d",
   "metadata": {},
   "outputs": [],
   "source": [
    "# Merging case count and unemployment percentages dataset\n",
    "df_merge_unemp_rate = pd.merge(monroe_unemployment_percentages, result, on=\"date\", how='inner')"
   ]
  },
  {
   "cell_type": "code",
   "execution_count": 18,
   "id": "c11c1d36",
   "metadata": {},
   "outputs": [
    {
     "data": {
      "text/html": [
       "<div>\n",
       "<style scoped>\n",
       "    .dataframe tbody tr th:only-of-type {\n",
       "        vertical-align: middle;\n",
       "    }\n",
       "\n",
       "    .dataframe tbody tr th {\n",
       "        vertical-align: top;\n",
       "    }\n",
       "\n",
       "    .dataframe thead th {\n",
       "        text-align: right;\n",
       "    }\n",
       "</style>\n",
       "<table border=\"1\" class=\"dataframe\">\n",
       "  <thead>\n",
       "    <tr style=\"text-align: right;\">\n",
       "      <th></th>\n",
       "      <th>date</th>\n",
       "      <th>MEDLISPRI36055</th>\n",
       "      <th>confirmed_cases</th>\n",
       "    </tr>\n",
       "  </thead>\n",
       "  <tbody>\n",
       "    <tr>\n",
       "      <th>0</th>\n",
       "      <td>2020-02</td>\n",
       "      <td>222450.0</td>\n",
       "      <td>0.000000</td>\n",
       "    </tr>\n",
       "    <tr>\n",
       "      <th>1</th>\n",
       "      <td>2020-03</td>\n",
       "      <td>234900.0</td>\n",
       "      <td>57.225806</td>\n",
       "    </tr>\n",
       "    <tr>\n",
       "      <th>2</th>\n",
       "      <td>2020-04</td>\n",
       "      <td>250950.0</td>\n",
       "      <td>911.933333</td>\n",
       "    </tr>\n",
       "    <tr>\n",
       "      <th>3</th>\n",
       "      <td>2020-05</td>\n",
       "      <td>254900.0</td>\n",
       "      <td>2199.451613</td>\n",
       "    </tr>\n",
       "    <tr>\n",
       "      <th>4</th>\n",
       "      <td>2020-06</td>\n",
       "      <td>239900.0</td>\n",
       "      <td>3378.133333</td>\n",
       "    </tr>\n",
       "  </tbody>\n",
       "</table>\n",
       "</div>"
      ],
      "text/plain": [
       "      date  MEDLISPRI36055  confirmed_cases\n",
       "0  2020-02        222450.0         0.000000\n",
       "1  2020-03        234900.0        57.225806\n",
       "2  2020-04        250950.0       911.933333\n",
       "3  2020-05        254900.0      2199.451613\n",
       "4  2020-06        239900.0      3378.133333"
      ]
     },
     "execution_count": 18,
     "metadata": {},
     "output_type": "execute_result"
    }
   ],
   "source": [
    "df_merge.head()"
   ]
  },
  {
   "cell_type": "markdown",
   "id": "7c72f34b",
   "metadata": {},
   "source": [
    "### Checking stationarity of time series"
   ]
  },
  {
   "cell_type": "markdown",
   "id": "e7a693ba",
   "metadata": {},
   "source": [
    "Before performing Granger causality test, we need to check if the time series are stationary. \n",
    "We use augmented dickey fuller test for this analysis."
   ]
  },
  {
   "cell_type": "code",
   "execution_count": 19,
   "id": "30da0f31",
   "metadata": {},
   "outputs": [
    {
     "name": "stdout",
     "output_type": "stream",
     "text": [
      "Test Statistic: -0.345247\n",
      "p-value: 0.918847\n",
      "Critical values:\n",
      "\t1%: -3.924\n",
      "\t5%: -3.068\n",
      "\t10%: -2.674\n"
     ]
    }
   ],
   "source": [
    "result=adfuller (df_merge['confirmed_cases'])\n",
    "print('Test Statistic: %f' %result[0])\n",
    "print('p-value: %f' %result[1])\n",
    "print('Critical values:')\n",
    "for key, value in result[4].items ():\n",
    "     print('\\t%s: %.3f' %(key, value))"
   ]
  },
  {
   "cell_type": "markdown",
   "id": "4c0691f2",
   "metadata": {},
   "source": [
    "As the test statistic is greater (less negative) then the critical value, it becomes the reason to not reject the null hypothesis. This indicates that the data is non-stationary. We apply second order differencing and apply ADF again."
   ]
  },
  {
   "cell_type": "code",
   "execution_count": 20,
   "id": "0a80dc66",
   "metadata": {},
   "outputs": [
    {
     "name": "stdout",
     "output_type": "stream",
     "text": [
      "Test Statistic: -4.576645\n",
      "p-value: 0.000143\n",
      "Critical values:\n",
      "\t1%: -3.889\n",
      "\t5%: -3.054\n",
      "\t10%: -2.667\n"
     ]
    }
   ],
   "source": [
    "df_log_hp=np.sqrt(df_merge['confirmed_cases'])\n",
    "df_diff_hp=df_log_hp.diff().dropna()\n",
    "df_diff_hp_2 = df_diff_hp.diff().dropna()\n",
    "#Checking the stationarity\n",
    "result=adfuller (df_diff_hp_2)\n",
    "print('Test Statistic: %f' %result[0])\n",
    "print('p-value: %f' %result[1])\n",
    "print('Critical values:')\n",
    "for key, value in result[4].items ():\n",
    "     print('\\t%s: %.3f' %(key, value))"
   ]
  },
  {
   "cell_type": "markdown",
   "id": "906d613c",
   "metadata": {},
   "source": [
    "As the test statistic is smaller then the critical value 0.05, it becomes the reason to reject the null hypothesis. This indicates that the data is stationary. "
   ]
  },
  {
   "cell_type": "code",
   "execution_count": 21,
   "id": "36977b6f",
   "metadata": {},
   "outputs": [],
   "source": [
    "df_merge['confirmed_cases'] = df_diff_hp_2"
   ]
  },
  {
   "cell_type": "markdown",
   "id": "bbfeddd9",
   "metadata": {},
   "source": [
    "Applying the same process for the median housing prices"
   ]
  },
  {
   "cell_type": "code",
   "execution_count": 22,
   "id": "db8ed75d",
   "metadata": {},
   "outputs": [
    {
     "name": "stdout",
     "output_type": "stream",
     "text": [
      "Test Statistic: -1.707831\n",
      "p-value: 0.427083\n",
      "Critical values:\n",
      "\t1%: -3.833\n",
      "\t5%: -3.031\n",
      "\t10%: -2.656\n"
     ]
    }
   ],
   "source": [
    "result=adfuller (df_merge['MEDLISPRI36055'])\n",
    "print('Test Statistic: %f' %result[0])\n",
    "print('p-value: %f' %result[1])\n",
    "print('Critical values:')\n",
    "for key, value in result[4].items ():\n",
    "     print('\\t%s: %.3f' %(key, value))"
   ]
  },
  {
   "cell_type": "code",
   "execution_count": 24,
   "id": "2a3e6ab6",
   "metadata": {},
   "outputs": [
    {
     "name": "stdout",
     "output_type": "stream",
     "text": [
      "Test Statistic: -5.635012\n",
      "p-value: 0.000001\n",
      "Critical values:\n",
      "\t1%: -3.859\n",
      "\t5%: -3.042\n",
      "\t10%: -2.661\n"
     ]
    }
   ],
   "source": [
    "df_log_hp=np.sqrt(df_merge['MEDLISPRI36055'])\n",
    "df_diff_hp=df_log_hp.diff().dropna()\n",
    "df_diff_hp_2 = df_diff_hp.diff().dropna()\n",
    "#Checking the stationarity\n",
    "result=adfuller (df_diff_hp_2)\n",
    "print('Test Statistic: %f' %result[0])\n",
    "print('p-value: %f' %result[1])\n",
    "print('Critical values:')\n",
    "for key, value in result[4].items ():\n",
    "     print('\\t%s: %.3f' %(key, value))"
   ]
  },
  {
   "cell_type": "code",
   "execution_count": 25,
   "id": "852fe871",
   "metadata": {},
   "outputs": [],
   "source": [
    "df_merge['MEDLISPRI36055'] = df_diff_hp_2"
   ]
  },
  {
   "cell_type": "code",
   "execution_count": 26,
   "id": "8dcc5c4c",
   "metadata": {},
   "outputs": [
    {
     "data": {
      "text/html": [
       "<div>\n",
       "<style scoped>\n",
       "    .dataframe tbody tr th:only-of-type {\n",
       "        vertical-align: middle;\n",
       "    }\n",
       "\n",
       "    .dataframe tbody tr th {\n",
       "        vertical-align: top;\n",
       "    }\n",
       "\n",
       "    .dataframe thead th {\n",
       "        text-align: right;\n",
       "    }\n",
       "</style>\n",
       "<table border=\"1\" class=\"dataframe\">\n",
       "  <thead>\n",
       "    <tr style=\"text-align: right;\">\n",
       "      <th></th>\n",
       "      <th>date</th>\n",
       "      <th>MEDLISPRI36055</th>\n",
       "      <th>confirmed_cases</th>\n",
       "    </tr>\n",
       "  </thead>\n",
       "  <tbody>\n",
       "    <tr>\n",
       "      <th>0</th>\n",
       "      <td>2020-02</td>\n",
       "      <td>0.000000</td>\n",
       "      <td>0.000000</td>\n",
       "    </tr>\n",
       "    <tr>\n",
       "      <th>1</th>\n",
       "      <td>2020-03</td>\n",
       "      <td>0.000000</td>\n",
       "      <td>0.000000</td>\n",
       "    </tr>\n",
       "    <tr>\n",
       "      <th>2</th>\n",
       "      <td>2020-04</td>\n",
       "      <td>3.265488</td>\n",
       "      <td>15.068686</td>\n",
       "    </tr>\n",
       "    <tr>\n",
       "      <th>3</th>\n",
       "      <td>2020-05</td>\n",
       "      <td>-12.357143</td>\n",
       "      <td>-5.933382</td>\n",
       "    </tr>\n",
       "    <tr>\n",
       "      <th>4</th>\n",
       "      <td>2020-06</td>\n",
       "      <td>-19.007470</td>\n",
       "      <td>-5.476677</td>\n",
       "    </tr>\n",
       "  </tbody>\n",
       "</table>\n",
       "</div>"
      ],
      "text/plain": [
       "      date  MEDLISPRI36055  confirmed_cases\n",
       "0  2020-02        0.000000         0.000000\n",
       "1  2020-03        0.000000         0.000000\n",
       "2  2020-04        3.265488        15.068686\n",
       "3  2020-05      -12.357143        -5.933382\n",
       "4  2020-06      -19.007470        -5.476677"
      ]
     },
     "execution_count": 26,
     "metadata": {},
     "output_type": "execute_result"
    }
   ],
   "source": [
    "df_merge.fillna(0, inplace = True)\n",
    "df_merge.head()"
   ]
  },
  {
   "cell_type": "code",
   "execution_count": 27,
   "id": "0b2220a5",
   "metadata": {},
   "outputs": [
    {
     "name": "stdout",
     "output_type": "stream",
     "text": [
      "\n",
      "Granger Causality\n",
      "number of lags (no zero) 1\n",
      "ssr based F test:         F=3.7509  , p=0.0696  , df_denom=17, df_num=1\n",
      "ssr based chi2 test:   chi2=4.4129  , p=0.0357  , df=1\n",
      "likelihood ratio test: chi2=3.9876  , p=0.0458  , df=1\n",
      "parameter F test:         F=3.7509  , p=0.0696  , df_denom=17, df_num=1\n",
      "\n",
      "Granger Causality\n",
      "number of lags (no zero) 2\n",
      "ssr based F test:         F=1.6505  , p=0.2272  , df_denom=14, df_num=2\n",
      "ssr based chi2 test:   chi2=4.4799  , p=0.1065  , df=2\n",
      "likelihood ratio test: chi2=4.0224  , p=0.1338  , df=2\n",
      "parameter F test:         F=1.6505  , p=0.2272  , df_denom=14, df_num=2\n",
      "\n",
      "Granger Causality\n",
      "number of lags (no zero) 3\n",
      "ssr based F test:         F=0.9189  , p=0.4635  , df_denom=11, df_num=3\n",
      "ssr based chi2 test:   chi2=4.5111  , p=0.2113  , df=3\n",
      "likelihood ratio test: chi2=4.0255  , p=0.2587  , df=3\n",
      "parameter F test:         F=0.9189  , p=0.4635  , df_denom=11, df_num=3\n",
      "\n",
      "Granger Causality\n",
      "number of lags (no zero) 4\n",
      "ssr based F test:         F=4.5969  , p=0.0320  , df_denom=8, df_num=4\n",
      "ssr based chi2 test:   chi2=39.0738 , p=0.0000  , df=4\n",
      "likelihood ratio test: chi2=20.2887 , p=0.0004  , df=4\n",
      "parameter F test:         F=4.5969  , p=0.0320  , df_denom=8, df_num=4\n"
     ]
    },
    {
     "data": {
      "text/plain": [
       "{1: ({'ssr_ftest': (3.750933577390731, 0.06958025839729576, 17.0, 1),\n",
       "   'ssr_chi2test': (4.412863032224389, 0.035668928768212496, 1),\n",
       "   'lrtest': (3.9875578657975552, 0.045837454949569104, 1),\n",
       "   'params_ftest': (3.750933577390736, 0.06958025839729566, 17.0, 1.0)},\n",
       "  [<statsmodels.regression.linear_model.RegressionResultsWrapper at 0x7fd3011fa040>,\n",
       "   <statsmodels.regression.linear_model.RegressionResultsWrapper at 0x7fd2f03cb580>,\n",
       "   array([[0., 1., 0.]])]),\n",
       " 2: ({'ssr_ftest': (1.6505032063504157, 0.22719390697490935, 14.0, 2),\n",
       "   'ssr_chi2test': (4.479937274379699, 0.10646184326947276, 2),\n",
       "   'lrtest': (4.022439542478651, 0.13382533877351385, 2),\n",
       "   'params_ftest': (1.650503206350416, 0.22719390697490935, 14.0, 2.0)},\n",
       "  [<statsmodels.regression.linear_model.RegressionResultsWrapper at 0x7fd2f03ffee0>,\n",
       "   <statsmodels.regression.linear_model.RegressionResultsWrapper at 0x7fd310e83f10>,\n",
       "   array([[0., 0., 1., 0., 0.],\n",
       "          [0., 0., 0., 1., 0.]])]),\n",
       " 3: ({'ssr_ftest': (0.9189296380134837, 0.4635336157237385, 11.0, 3),\n",
       "   'ssr_chi2test': (4.511109132066193, 0.2113015160367237, 3),\n",
       "   'lrtest': (4.025469036025044, 0.258727035096968, 3),\n",
       "   'params_ftest': (0.9189296380134832, 0.4635336157237385, 11.0, 3.0)},\n",
       "  [<statsmodels.regression.linear_model.RegressionResultsWrapper at 0x7fd301120280>,\n",
       "   <statsmodels.regression.linear_model.RegressionResultsWrapper at 0x7fd2f03ffaf0>,\n",
       "   array([[0., 0., 0., 1., 0., 0., 0.],\n",
       "          [0., 0., 0., 0., 1., 0., 0.],\n",
       "          [0., 0., 0., 0., 0., 1., 0.]])]),\n",
       " 4: ({'ssr_ftest': (4.5969199597742785, 0.0319953087825545, 8.0, 4),\n",
       "   'ssr_chi2test': (39.07381965808137, 6.72609448941613e-08, 4),\n",
       "   'lrtest': (20.28874667535075, 0.00043793563933961844, 4),\n",
       "   'params_ftest': (4.596919959774277, 0.03199530878255454, 8.0, 4.0)},\n",
       "  [<statsmodels.regression.linear_model.RegressionResultsWrapper at 0x7fd2f03f42e0>,\n",
       "   <statsmodels.regression.linear_model.RegressionResultsWrapper at 0x7fd2f03f4310>,\n",
       "   array([[0., 0., 0., 0., 1., 0., 0., 0., 0.],\n",
       "          [0., 0., 0., 0., 0., 1., 0., 0., 0.],\n",
       "          [0., 0., 0., 0., 0., 0., 1., 0., 0.],\n",
       "          [0., 0., 0., 0., 0., 0., 0., 1., 0.]])])}"
      ]
     },
     "execution_count": 27,
     "metadata": {},
     "output_type": "execute_result"
    }
   ],
   "source": [
    "grangercausalitytests(df_merge[['MEDLISPRI36055', 'confirmed_cases']], maxlag=4)"
   ]
  },
  {
   "cell_type": "markdown",
   "id": "3b083881",
   "metadata": {},
   "source": [
    "### Calculating Pearson Correlation Coefficient between unemployment percentages and COVID-19 case count"
   ]
  },
  {
   "cell_type": "code",
   "execution_count": 28,
   "id": "4f64d191",
   "metadata": {},
   "outputs": [
    {
     "data": {
      "text/html": [
       "<div>\n",
       "<style scoped>\n",
       "    .dataframe tbody tr th:only-of-type {\n",
       "        vertical-align: middle;\n",
       "    }\n",
       "\n",
       "    .dataframe tbody tr th {\n",
       "        vertical-align: top;\n",
       "    }\n",
       "\n",
       "    .dataframe thead th {\n",
       "        text-align: right;\n",
       "    }\n",
       "</style>\n",
       "<table border=\"1\" class=\"dataframe\">\n",
       "  <thead>\n",
       "    <tr style=\"text-align: right;\">\n",
       "      <th></th>\n",
       "      <th>date</th>\n",
       "      <th>NYMONR5URN</th>\n",
       "      <th>confirmed_cases</th>\n",
       "    </tr>\n",
       "  </thead>\n",
       "  <tbody>\n",
       "    <tr>\n",
       "      <th>0</th>\n",
       "      <td>2020-02</td>\n",
       "      <td>4.6</td>\n",
       "      <td>0.000000</td>\n",
       "    </tr>\n",
       "    <tr>\n",
       "      <th>1</th>\n",
       "      <td>2020-03</td>\n",
       "      <td>5.1</td>\n",
       "      <td>57.225806</td>\n",
       "    </tr>\n",
       "    <tr>\n",
       "      <th>2</th>\n",
       "      <td>2020-04</td>\n",
       "      <td>16.9</td>\n",
       "      <td>911.933333</td>\n",
       "    </tr>\n",
       "    <tr>\n",
       "      <th>3</th>\n",
       "      <td>2020-05</td>\n",
       "      <td>12.9</td>\n",
       "      <td>2199.451613</td>\n",
       "    </tr>\n",
       "    <tr>\n",
       "      <th>4</th>\n",
       "      <td>2020-06</td>\n",
       "      <td>10.5</td>\n",
       "      <td>3378.133333</td>\n",
       "    </tr>\n",
       "  </tbody>\n",
       "</table>\n",
       "</div>"
      ],
      "text/plain": [
       "      date  NYMONR5URN  confirmed_cases\n",
       "0  2020-02         4.6         0.000000\n",
       "1  2020-03         5.1        57.225806\n",
       "2  2020-04        16.9       911.933333\n",
       "3  2020-05        12.9      2199.451613\n",
       "4  2020-06        10.5      3378.133333"
      ]
     },
     "execution_count": 28,
     "metadata": {},
     "output_type": "execute_result"
    }
   ],
   "source": [
    "df_merge_unemp_rate.head()"
   ]
  },
  {
   "cell_type": "code",
   "execution_count": 29,
   "id": "440f8d31",
   "metadata": {},
   "outputs": [],
   "source": [
    "corr, _ = pearsonr(df_merge_unemp_rate['confirmed_cases'], df_merge_unemp_rate['NYMONR5URN'])"
   ]
  },
  {
   "cell_type": "code",
   "execution_count": 30,
   "id": "6a824822",
   "metadata": {},
   "outputs": [
    {
     "data": {
      "text/plain": [
       "-0.5534266569542172"
      ]
     },
     "execution_count": 30,
     "metadata": {},
     "output_type": "execute_result"
    }
   ],
   "source": [
    "corr"
   ]
  },
  {
   "cell_type": "markdown",
   "id": "41251bb9",
   "metadata": {},
   "source": [
    "### Thus, we see that the Pearson Correlation Coefficient between COVID-19 case count and unemployment percentage is -0.553"
   ]
  }
 ],
 "metadata": {
  "kernelspec": {
   "display_name": "Python 3",
   "language": "python",
   "name": "python3"
  },
  "language_info": {
   "codemirror_mode": {
    "name": "ipython",
    "version": 3
   },
   "file_extension": ".py",
   "mimetype": "text/x-python",
   "name": "python",
   "nbconvert_exporter": "python",
   "pygments_lexer": "ipython3",
   "version": "3.8.8"
  }
 },
 "nbformat": 4,
 "nbformat_minor": 5
}
